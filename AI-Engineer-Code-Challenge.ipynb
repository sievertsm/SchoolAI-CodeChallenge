{
 "cells": [
  {
   "cell_type": "markdown",
   "metadata": {},
   "source": [
    "# AI Engineer Code Challenge\n",
    "## Document Embedding and RAG Implementation"
   ]
  },
  {
   "cell_type": "markdown",
   "metadata": {},
   "source": [
    "## Objective\n",
    "\n",
    "Develop a simple question-answering system using a Retrieval-Augmented Generation (RAG) framework. The system should embed documents from a public dataset, retrieve relevant information based on a user query, and generate an appropriate response."
   ]
  },
  {
   "cell_type": "markdown",
   "metadata": {},
   "source": [
    "## Requirements\n",
    "\n",
    "1. Use the \"sciq\" dataset from Hugging Face (https://huggingface.co/datasets/sciq)\n",
    "2. Implement document embedding\n",
    "3. Create a simple RAG framework for retrieval and reranking\n",
    "4. Provide a basic interface for asking questions and receiving answers"
   ]
  },
  {
   "cell_type": "markdown",
   "metadata": {},
   "source": [
    "## Tasks"
   ]
  },
  {
   "cell_type": "markdown",
   "metadata": {},
   "source": [
    "### 1. Data Preparation (30 minutes)\n",
    "\n",
    "- Load the \"sciq\" dataset from Hugging Face\n",
    "- Select a subset of 1000 documents from the dataset\n",
    "- Use the `support` feature of the dataset for your embeddings\n",
    "    - We will use the other features on our end to understand RAG quality\n",
    "- Preprocess the documents as needed (e.g., cleaning, tokenization)"
   ]
  },
  {
   "cell_type": "code",
   "execution_count": null,
   "metadata": {},
   "outputs": [],
   "source": []
  },
  {
   "cell_type": "markdown",
   "metadata": {},
   "source": [
    "### 2. Document Embedding (1 hour)\n",
    "\n",
    "- Choose an appropriate embedding model (e.g., SentenceTransformers)\n",
    "- Embed the selected documents\n",
    "- Store the embeddings efficiently for quick retrieval"
   ]
  },
  {
   "cell_type": "code",
   "execution_count": null,
   "metadata": {},
   "outputs": [],
   "source": []
  },
  {
   "cell_type": "markdown",
   "metadata": {},
   "source": [
    "### 3. RAG Framework Implementation (1.5 hours)\n",
    "\n",
    "- Implement a retrieval mechanism to find relevant documents based on a query\n",
    "- Ensure that the relevant documents are evaluated based on a dynamic threshold like kneedle method, BIC, or elbow method\n",
    "- Develop a simple reranking algorithm to improve the relevance of retrieved documents\n",
    "- Integrate a language model (e.g., Llama 70b using HuggingChat) for generating responses based on retrieved information"
   ]
  },
  {
   "cell_type": "code",
   "execution_count": null,
   "metadata": {},
   "outputs": [],
   "source": []
  },
  {
   "cell_type": "markdown",
   "metadata": {},
   "source": [
    "### 4. Query Interface (30 minutes)\n",
    "\n",
    "- Create a simple command-line interface for users to input questions\n",
    "- You could also use Gradio or Streamlit\n",
    "- Display the top retrieved documents and the generated answer"
   ]
  },
  {
   "cell_type": "code",
   "execution_count": null,
   "metadata": {},
   "outputs": [],
   "source": []
  },
  {
   "cell_type": "markdown",
   "metadata": {},
   "source": [
    "### 5. Evaluation and Documentation (30 minutes)\n",
    "\n",
    "- Implement a basic evaluation metric (e.g., relevance score)\n",
    "- Provide clear documentation on how to run the system and any dependencies"
   ]
  },
  {
   "cell_type": "code",
   "execution_count": null,
   "metadata": {},
   "outputs": [],
   "source": []
  },
  {
   "cell_type": "markdown",
   "metadata": {},
   "source": [
    "## Deliverables\n",
    "\n",
    "1. Python, Rust, or GoLang code implementing the entire pipeline\n",
    "2. Requirements file listing all necessary dependencies\n",
    "3. Brief documentation explaining the approach, challenges faced, and potential improvements"
   ]
  },
  {
   "cell_type": "markdown",
   "metadata": {},
   "source": [
    "## Bonus (if time permits)\n",
    "\n",
    "- Implement a simple caching mechanism to speed up repeated queries\n",
    "- Add a feature to explain the reasoning behind the generated answer"
   ]
  },
  {
   "cell_type": "markdown",
   "metadata": {},
   "source": [
    "## Evaluation Criteria\n",
    "\n",
    "1. Code quality and organization\n",
    "2. Effectiveness of the RAG implementation\n",
    "3. Appropriate use of embedding techniques\n",
    "4. Clarity of documentation\n",
    "5. Overall system performance and response quality"
   ]
  },
  {
   "cell_type": "code",
   "execution_count": null,
   "metadata": {},
   "outputs": [],
   "source": []
  }
 ],
 "metadata": {
  "kernelspec": {
   "display_name": "Python 3 (ipykernel)",
   "language": "python",
   "name": "python3"
  },
  "language_info": {
   "codemirror_mode": {
    "name": "ipython",
    "version": 3
   },
   "file_extension": ".py",
   "mimetype": "text/x-python",
   "name": "python",
   "nbconvert_exporter": "python",
   "pygments_lexer": "ipython3",
   "version": "3.9.6"
  }
 },
 "nbformat": 4,
 "nbformat_minor": 4
}
