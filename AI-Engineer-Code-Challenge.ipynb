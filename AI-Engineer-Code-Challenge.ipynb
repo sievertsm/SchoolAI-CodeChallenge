{
 "cells": [
  {
   "cell_type": "markdown",
   "metadata": {},
   "source": [
    "# AI Engineer Code Challenge\n",
    "## Document Embedding and RAG Implementation"
   ]
  },
  {
   "cell_type": "markdown",
   "metadata": {},
   "source": [
    "## Objective\n",
    "\n",
    "Develop a simple question-answering system using a Retrieval-Augmented Generation (RAG) framework. The system should embed documents from a public dataset, retrieve relevant information based on a user query, and generate an appropriate response."
   ]
  },
  {
   "cell_type": "markdown",
   "metadata": {},
   "source": [
    "## Requirements\n",
    "\n",
    "1. Use the \"sciq\" dataset from Hugging Face (https://huggingface.co/datasets/sciq)\n",
    "2. Implement document embedding\n",
    "3. Create a simple RAG framework for retrieval and reranking\n",
    "4. Provide a basic interface for asking questions and receiving answers"
   ]
  },
  {
   "cell_type": "markdown",
   "metadata": {},
   "source": [
    "## Tasks"
   ]
  },
  {
   "cell_type": "markdown",
   "metadata": {},
   "source": [
    "### 1. Data Preparation (30 minutes)\n",
    "\n",
    "- Load the \"sciq\" dataset from Hugging Face\n",
    "- Select a subset of 1000 documents from the dataset\n",
    "- Use the `support` feature of the dataset for your embeddings\n",
    "    - We will use the other features on our end to understand RAG quality\n",
    "- Preprocess the documents as needed (e.g., cleaning, tokenization)"
   ]
  },
  {
   "cell_type": "code",
   "execution_count": 1,
   "metadata": {},
   "outputs": [
    {
     "name": "stderr",
     "output_type": "stream",
     "text": [
      "/Users/Mike/Documents/SchoolAI-CodeChallenge/.venv/lib/python3.9/site-packages/sentence_transformers/cross_encoder/CrossEncoder.py:11: TqdmExperimentalWarning: Using `tqdm.autonotebook.tqdm` in notebook mode. Use `tqdm.tqdm` instead to force console mode (e.g. in jupyter console)\n",
      "  from tqdm.autonotebook import tqdm, trange\n",
      "/Users/Mike/Documents/SchoolAI-CodeChallenge/.venv/lib/python3.9/site-packages/urllib3/__init__.py:35: NotOpenSSLWarning: urllib3 v2 only supports OpenSSL 1.1.1+, currently the 'ssl' module is compiled with 'LibreSSL 2.8.3'. See: https://github.com/urllib3/urllib3/issues/3020\n",
      "  warnings.warn(\n"
     ]
    }
   ],
   "source": [
    "from sentence_transformers import SentenceTransformer\n",
    "from datasets import load_dataset\n",
    "import numpy as np\n",
    "import pandas as pd\n",
    "import faiss\n",
    "import re\n",
    "from groq import Groq"
   ]
  },
  {
   "cell_type": "code",
   "execution_count": 2,
   "metadata": {},
   "outputs": [],
   "source": [
    "import matplotlib.pyplot as plt\n",
    "import seaborn as sns\n",
    "import gradio as gr"
   ]
  },
  {
   "cell_type": "code",
   "execution_count": 3,
   "metadata": {},
   "outputs": [
    {
     "name": "stdout",
     "output_type": "stream",
     "text": [
      "(11679, 6)\n"
     ]
    },
    {
     "data": {
      "text/html": [
       "<div>\n",
       "<style scoped>\n",
       "    .dataframe tbody tr th:only-of-type {\n",
       "        vertical-align: middle;\n",
       "    }\n",
       "\n",
       "    .dataframe tbody tr th {\n",
       "        vertical-align: top;\n",
       "    }\n",
       "\n",
       "    .dataframe thead th {\n",
       "        text-align: right;\n",
       "    }\n",
       "</style>\n",
       "<table border=\"1\" class=\"dataframe\">\n",
       "  <thead>\n",
       "    <tr style=\"text-align: right;\">\n",
       "      <th></th>\n",
       "      <th>question</th>\n",
       "      <th>distractor3</th>\n",
       "      <th>distractor1</th>\n",
       "      <th>distractor2</th>\n",
       "      <th>correct_answer</th>\n",
       "      <th>support</th>\n",
       "    </tr>\n",
       "  </thead>\n",
       "  <tbody>\n",
       "    <tr>\n",
       "      <th>0</th>\n",
       "      <td>What type of organism is commonly used in prep...</td>\n",
       "      <td>viruses</td>\n",
       "      <td>protozoa</td>\n",
       "      <td>gymnosperms</td>\n",
       "      <td>mesophilic organisms</td>\n",
       "      <td>Mesophiles grow best in moderate temperature, ...</td>\n",
       "    </tr>\n",
       "    <tr>\n",
       "      <th>1</th>\n",
       "      <td>What phenomenon makes global winds blow northe...</td>\n",
       "      <td>tropical effect</td>\n",
       "      <td>muon effect</td>\n",
       "      <td>centrifugal effect</td>\n",
       "      <td>coriolis effect</td>\n",
       "      <td>Without Coriolis Effect the global winds would...</td>\n",
       "    </tr>\n",
       "    <tr>\n",
       "      <th>2</th>\n",
       "      <td>Changes from a less-ordered state to a more-or...</td>\n",
       "      <td>endothermic</td>\n",
       "      <td>unbalanced</td>\n",
       "      <td>reactive</td>\n",
       "      <td>exothermic</td>\n",
       "      <td>Summary Changes of state are examples of phase...</td>\n",
       "    </tr>\n",
       "    <tr>\n",
       "      <th>3</th>\n",
       "      <td>What is the least dangerous radioactive decay?</td>\n",
       "      <td>zeta decay</td>\n",
       "      <td>beta decay</td>\n",
       "      <td>gamma decay</td>\n",
       "      <td>alpha decay</td>\n",
       "      <td>All radioactive decay is dangerous to living t...</td>\n",
       "    </tr>\n",
       "    <tr>\n",
       "      <th>4</th>\n",
       "      <td>Kilauea in hawaii is the world’s most continuo...</td>\n",
       "      <td>magma</td>\n",
       "      <td>greenhouse gases</td>\n",
       "      <td>carbon and smog</td>\n",
       "      <td>smoke and ash</td>\n",
       "      <td>Example 3.5 Calculating Projectile Motion: Hot...</td>\n",
       "    </tr>\n",
       "  </tbody>\n",
       "</table>\n",
       "</div>"
      ],
      "text/plain": [
       "                                            question      distractor3  \\\n",
       "0  What type of organism is commonly used in prep...          viruses   \n",
       "1  What phenomenon makes global winds blow northe...  tropical effect   \n",
       "2  Changes from a less-ordered state to a more-or...      endothermic   \n",
       "3     What is the least dangerous radioactive decay?       zeta decay   \n",
       "4  Kilauea in hawaii is the world’s most continuo...            magma   \n",
       "\n",
       "        distractor1         distractor2        correct_answer  \\\n",
       "0          protozoa         gymnosperms  mesophilic organisms   \n",
       "1       muon effect  centrifugal effect       coriolis effect   \n",
       "2        unbalanced            reactive            exothermic   \n",
       "3        beta decay         gamma decay           alpha decay   \n",
       "4  greenhouse gases     carbon and smog         smoke and ash   \n",
       "\n",
       "                                             support  \n",
       "0  Mesophiles grow best in moderate temperature, ...  \n",
       "1  Without Coriolis Effect the global winds would...  \n",
       "2  Summary Changes of state are examples of phase...  \n",
       "3  All radioactive decay is dangerous to living t...  \n",
       "4  Example 3.5 Calculating Projectile Motion: Hot...  "
      ]
     },
     "execution_count": 3,
     "metadata": {},
     "output_type": "execute_result"
    }
   ],
   "source": [
    "# load the \"sciq\" dataset from Hugging Face\n",
    "ds = load_dataset(\"allenai/sciq\") # load the dataset\n",
    "ds_train = ds[\"train\"] # subset the training set\n",
    "\n",
    "# create dataframe for data manipulation\n",
    "df = pd.DataFrame(ds_train)\n",
    "print(df.shape)\n",
    "df.head()"
   ]
  },
  {
   "cell_type": "code",
   "execution_count": 4,
   "metadata": {},
   "outputs": [
    {
     "data": {
      "text/plain": [
       "question          0\n",
       "distractor3       0\n",
       "distractor1       0\n",
       "distractor2       0\n",
       "correct_answer    0\n",
       "support           0\n",
       "dtype: int64"
      ]
     },
     "execution_count": 4,
     "metadata": {},
     "output_type": "execute_result"
    }
   ],
   "source": [
    "# check for missing values\n",
    "df.isna().sum()"
   ]
  },
  {
   "cell_type": "code",
   "execution_count": 5,
   "metadata": {},
   "outputs": [],
   "source": [
    "def clean_text(text):\n",
    "    \"\"\"\n",
    "    \"\"\"\n",
    "    # remove links\n",
    "    text = re.sub(r\"http\\S+\", \"\", text) # https://stackoverflow.com/questions/11331982/how-to-remove-any-url-within-a-string-in-python\n",
    "\n",
    "    return text"
   ]
  },
  {
   "cell_type": "code",
   "execution_count": 6,
   "metadata": {},
   "outputs": [],
   "source": [
    "# apply the clean text function\n",
    "df[\"support-clean\"] = df[\"support\"].apply(clean_text)\n",
    "\n",
    "# investigate word count (split on whitespace)\n",
    "df[\"word_count\"] = df[\"support-clean\"].apply(lambda x: len(x.split()))"
   ]
  },
  {
   "cell_type": "code",
   "execution_count": 7,
   "metadata": {},
   "outputs": [
    {
     "data": {
      "image/png": "[encoded data removed]",
      "text/plain": [
       "<Figure size 900x300 with 2 Axes>"
      ]
     },
     "metadata": {},
     "output_type": "display_data"
    }
   ],
   "source": [
    "# visualize word count distribution\n",
    "\n",
    "# set minimum word count\n",
    "min_word_count = 5\n",
    "# min_word_count = 15\n",
    "\n",
    "# create figure\n",
    "fig, ax = plt.subplots(ncols=2, figsize=(9, 3), sharex=True, sharey=True)\n",
    "# plot histograms\n",
    "sns.histplot(df[\"word_count\"], ax=ax[0])\n",
    "sns.histplot(df[df[\"word_count\"]>=min_word_count][\"word_count\"], ax=ax[1])\n",
    "# add titles/labels\n",
    "titles = [\"All Data\", f\"Min Word Count: {min_word_count}\"]\n",
    "for i, t in enumerate(titles):\n",
    "    ax[i].set_title(t)\n",
    "    ax[i].set_xlabel(\"Word Count\")\n",
    "\n",
    "plt.show()"
   ]
  },
  {
   "cell_type": "code",
   "execution_count": 8,
   "metadata": {},
   "outputs": [
    {
     "data": {
      "text/html": [
       "<div>\n",
       "<style scoped>\n",
       "    .dataframe tbody tr th:only-of-type {\n",
       "        vertical-align: middle;\n",
       "    }\n",
       "\n",
       "    .dataframe tbody tr th {\n",
       "        vertical-align: top;\n",
       "    }\n",
       "\n",
       "    .dataframe thead th {\n",
       "        text-align: right;\n",
       "    }\n",
       "</style>\n",
       "<table border=\"1\" class=\"dataframe\">\n",
       "  <thead>\n",
       "    <tr style=\"text-align: right;\">\n",
       "      <th></th>\n",
       "      <th>question</th>\n",
       "      <th>distractor3</th>\n",
       "      <th>distractor1</th>\n",
       "      <th>distractor2</th>\n",
       "      <th>correct_answer</th>\n",
       "      <th>support</th>\n",
       "      <th>support-clean</th>\n",
       "      <th>word_count</th>\n",
       "    </tr>\n",
       "  </thead>\n",
       "  <tbody>\n",
       "    <tr>\n",
       "      <th>3430</th>\n",
       "      <td>The first law of thermodynamics deals with the...</td>\n",
       "      <td>galaxy</td>\n",
       "      <td>organism</td>\n",
       "      <td>springs</td>\n",
       "      <td>universe</td>\n",
       "      <td>Only radioactive isotopes have half-lives.</td>\n",
       "      <td>Only radioactive isotopes have half-lives.</td>\n",
       "      <td>5</td>\n",
       "    </tr>\n",
       "    <tr>\n",
       "      <th>8630</th>\n",
       "      <td>What kind of organisms are prokaryotes?</td>\n",
       "      <td>multicellular organisms</td>\n",
       "      <td>viral</td>\n",
       "      <td>single - flagellated</td>\n",
       "      <td>single-celled</td>\n",
       "      <td>All prokaryotes are single-celled organisms.</td>\n",
       "      <td>All prokaryotes are single-celled organisms.</td>\n",
       "      <td>5</td>\n",
       "    </tr>\n",
       "    <tr>\n",
       "      <th>10868</th>\n",
       "      <td>A bicycle is an example of a compound machine ...</td>\n",
       "      <td>interchangeable machines</td>\n",
       "      <td>linked machines</td>\n",
       "      <td>useful machines</td>\n",
       "      <td>simple machines</td>\n",
       "      <td>Arthropod at http://animal. discovery. com/ani...</td>\n",
       "      <td>Arthropod at  discovery. com/animal-facts/arth...</td>\n",
       "      <td>5</td>\n",
       "    </tr>\n",
       "  </tbody>\n",
       "</table>\n",
       "</div>"
      ],
      "text/plain": [
       "                                                question  \\\n",
       "3430   The first law of thermodynamics deals with the...   \n",
       "8630             What kind of organisms are prokaryotes?   \n",
       "10868  A bicycle is an example of a compound machine ...   \n",
       "\n",
       "                    distractor3      distractor1           distractor2  \\\n",
       "3430                     galaxy         organism               springs   \n",
       "8630    multicellular organisms            viral  single - flagellated   \n",
       "10868  interchangeable machines  linked machines       useful machines   \n",
       "\n",
       "        correct_answer                                            support  \\\n",
       "3430          universe         Only radioactive isotopes have half-lives.   \n",
       "8630     single-celled       All prokaryotes are single-celled organisms.   \n",
       "10868  simple machines  Arthropod at http://animal. discovery. com/ani...   \n",
       "\n",
       "                                           support-clean  word_count  \n",
       "3430          Only radioactive isotopes have half-lives.           5  \n",
       "8630        All prokaryotes are single-celled organisms.           5  \n",
       "10868  Arthropod at  discovery. com/animal-facts/arth...           5  "
      ]
     },
     "execution_count": 8,
     "metadata": {},
     "output_type": "execute_result"
    }
   ],
   "source": [
    "# look at what type of support statements are being filtered out\n",
    "# df[df[\"word_count\"]==2]\n",
    "# df[df[\"word_count\"]==3]\n",
    "# df[df[\"word_count\"]==4]\n",
    "df[df[\"word_count\"]==5]"
   ]
  },
  {
   "cell_type": "code",
   "execution_count": 9,
   "metadata": {},
   "outputs": [
    {
     "name": "stdout",
     "output_type": "stream",
     "text": [
      "(10477, 9)\n"
     ]
    }
   ],
   "source": [
    "# filter out rows with too few words\n",
    "df_filt = df[df[\"word_count\"]>=min_word_count].copy().reset_index() # original index will be stored as a feature\n",
    "print(df_filt.shape)"
   ]
  },
  {
   "cell_type": "code",
   "execution_count": 10,
   "metadata": {},
   "outputs": [
    {
     "name": "stdout",
     "output_type": "stream",
     "text": [
      "Total samples in subset: 1000\n"
     ]
    }
   ],
   "source": [
    "# select a subset of 1000 documents from the dataset\n",
    "\n",
    "# set number of samples to be selected\n",
    "n_samples=1000\n",
    "\n",
    "# set random seed for reproducibility\n",
    "np.random.seed(147)\n",
    "# get a set of random indicies to subset the data\n",
    "idx_sample = np.random.choice(len(df_filt), size=n_samples, replace=False)\n",
    "\n",
    "# subset the dataset\n",
    "df_train_sample = df_filt.iloc[idx_sample, :].reset_index(drop=True)\n",
    "\n",
    "print(f\"Total samples in subset: {len(df_train_sample)}\")"
   ]
  },
  {
   "cell_type": "code",
   "execution_count": 11,
   "metadata": {},
   "outputs": [
    {
     "name": "stdout",
     "output_type": "stream",
     "text": [
      "system of glands that secrete chemical messenger molecules called hormones into the blood.\n"
     ]
    }
   ],
   "source": [
    "# get the support-clean column of the data to use as text embeddings\n",
    "support_feat = df_train_sample[\"support-clean\"].values\n",
    "\n",
    "# preview the dataset\n",
    "print(support_feat[np.random.randint(len(support_feat))])"
   ]
  },
  {
   "cell_type": "code",
   "execution_count": null,
   "metadata": {},
   "outputs": [],
   "source": []
  },
  {
   "cell_type": "code",
   "execution_count": 12,
   "metadata": {},
   "outputs": [],
   "source": [
    "class RAG:\n",
    "    def __init__(self, embedding_model = \"sentence-transformers/all-MiniLM-L6-v2\"):\n",
    "    \n",
    "        # instantiate embedding model\n",
    "        self.model_embed = SentenceTransformer(embedding_model)\n",
    "        self.source_text = None\n",
    "        self.index = None\n",
    "\n",
    "    def embed_text(self, text):\n",
    "        \"\"\"\n",
    "        \"\"\"\n",
    "        return self.model_embed.encode(text)\n",
    "\n",
    "\n",
    "    def create_vector_database(self, text_list):\n",
    "        \"\"\"\n",
    "        \"\"\"\n",
    "\n",
    "        self.source_text = np.array(text_list)\n",
    "        \n",
    "        embeddings_faiss = self.embed_text(text_list)\n",
    "        \n",
    "        faiss.normalize_L2(embeddings_faiss)  # normalize embeddings for cosine similarity\n",
    "        index = faiss.IndexFlatIP(embeddings_faiss.shape[1]) # inner product for cosine similarity\n",
    "        index.add(embeddings_faiss)\n",
    "\n",
    "        self.index = index\n",
    "\n",
    "\n",
    "    def query_vector_database(self, text, top_k=5):\n",
    "        \"\"\"\n",
    "        \"\"\"\n",
    "        vector = self.embed_text(text)\n",
    "\n",
    "        if len(vector.shape) == 1:\n",
    "            vector = vector.reshape(1, -1)\n",
    "\n",
    "\n",
    "        faiss.normalize_L2(vector)  # Normalize embeddings for cosine similarity\n",
    "\n",
    "        distances, indices = self.index.search(vector, top_k) \n",
    "\n",
    "        return distances[0], indices[0]\n",
    "\n",
    "\n",
    "    def construct_rag_prompt(self, query_text, top_k=5):\n",
    "        \"\"\"\n",
    "        \"\"\"\n",
    "\n",
    "        distances, indicies = self.query_vector_database(query_text, top_k=top_k)\n",
    "        \n",
    "        # threshold search results\n",
    "\n",
    "        if len(indicies) > 0:\n",
    "            source_material = self.source_text[indicies]\n",
    "        else:\n",
    "            source_material = 'None'\n",
    "\n",
    "        \n",
    "        prompt_text = f\"{query_text}\\n\\nDocuments:\\n\"\n",
    "    \n",
    "        for s in source_material:\n",
    "            prompt_text += f\"{s}\\n\\n\"\n",
    "    \n",
    "        prompt_text = prompt_text[:-2]\n",
    "    \n",
    "        return prompt_text\n",
    "\n",
    "\n",
    "    def rag_qa(self, question):\n",
    "        \"\"\"\n",
    "        \"\"\"\n",
    "\n",
    "        rag_prompt = rag.construct_rag_prompt(question)\n",
    "\n",
    "        groq_api = \"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\"\n",
    "        client = Groq(api_key=groq_api)\n",
    "\n",
    "        completion = client.chat.completions.create(\n",
    "            model=\"llama3-8b-8192\",\n",
    "            messages=[\n",
    "                {\n",
    "                    \"role\": \"user\",\n",
    "                    \"content\": rag_prompt\n",
    "                }\n",
    "            ],\n",
    "            temperature=1,\n",
    "            max_tokens=1024,\n",
    "            top_p=1,\n",
    "            stream=False,\n",
    "            stop=None,\n",
    "        )\n",
    "        \n",
    "        msg = completion.choices[0].message\n",
    "        answer = msg.content\n",
    "\n",
    "        return answer"
   ]
  },
  {
   "cell_type": "code",
   "execution_count": 22,
   "metadata": {},
   "outputs": [],
   "source": [
    "from sklearn.feature_extraction.text import TfidfVectorizer\n",
    "\n",
    "tfidfvectorizer = TfidfVectorizer()"
   ]
  },
  {
   "cell_type": "code",
   "execution_count": null,
   "metadata": {},
   "outputs": [],
   "source": []
  },
  {
   "cell_type": "code",
   "execution_count": null,
   "metadata": {},
   "outputs": [],
   "source": []
  },
  {
   "cell_type": "markdown",
   "metadata": {},
   "source": [
    "### 2. Document Embedding (1 hour)\n",
    "\n",
    "- Choose an appropriate embedding model (e.g., SentenceTransformers)\n",
    "- Embed the selected documents\n",
    "- Store the embeddings efficiently for quick retrieval"
   ]
  },
  {
   "cell_type": "code",
   "execution_count": 13,
   "metadata": {},
   "outputs": [
    {
     "name": "stderr",
     "output_type": "stream",
     "text": [
      "/Users/Mike/Documents/SchoolAI-CodeChallenge/.venv/lib/python3.9/site-packages/transformers/tokenization_utils_base.py:1601: FutureWarning: `clean_up_tokenization_spaces` was not set. It will be set to `True` by default. This behavior will be depracted in transformers v4.45, and will be then set to `False` by default. For more details check this issue: https://github.com/huggingface/transformers/issues/31884\n",
      "  warnings.warn(\n"
     ]
    }
   ],
   "source": [
    "# instantiate embedding model\n",
    "model_embedd = SentenceTransformer(\"sentence-transformers/all-MiniLM-L6-v2\")"
   ]
  },
  {
   "cell_type": "code",
   "execution_count": 14,
   "metadata": {},
   "outputs": [
    {
     "name": "stdout",
     "output_type": "stream",
     "text": [
      "(1000, 384)\n"
     ]
    }
   ],
   "source": [
    "embeddings = model_embedd.encode(support_feat)\n",
    "print(embeddings.shape)"
   ]
  },
  {
   "cell_type": "code",
   "execution_count": 15,
   "metadata": {},
   "outputs": [
    {
     "name": "stdout",
     "output_type": "stream",
     "text": [
      "Number of vectors in the index: 1000\n"
     ]
    }
   ],
   "source": [
    "embeddings_faiss = embeddings.copy()\n",
    "\n",
    "faiss.normalize_L2(embeddings_faiss)  # Normalize embeddings for cosine similarity\n",
    "index = faiss.IndexFlatIP(embeddings_faiss.shape[1]) # inner product for cosine similarity\n",
    "index.add(embeddings_faiss)\n",
    "\n",
    "print(f\"Number of vectors in the index: {index.ntotal}\")"
   ]
  },
  {
   "cell_type": "code",
   "execution_count": 16,
   "metadata": {},
   "outputs": [],
   "source": [
    "def query_db(vector, index, k=5):\n",
    "    \"\"\"\n",
    "    \"\"\"\n",
    "    vector_cp = vector.copy()\n",
    "    if len(vector_cp.shape) == 1:\n",
    "        vector_cp = vector_cp.reshape(1, -1)\n",
    "    \n",
    "    faiss.normalize_L2(vector_cp)  # Normalize embeddings for cosine similarity\n",
    "\n",
    "    distances, indices = index.search(vector_cp, k) \n",
    "\n",
    "    return distances, indices"
   ]
  },
  {
   "cell_type": "code",
   "execution_count": 17,
   "metadata": {},
   "outputs": [
    {
     "name": "stdout",
     "output_type": "stream",
     "text": [
      "Indices of nearest neighbors: [[  1 924 688  38 523]]\n",
      "Distances to nearest neighbors: [[0.99999994 0.55332303 0.48237556 0.45981878 0.44597822]]\n",
      "\n",
      "Indices' Text\n",
      "1 Some diseases affect mainly the blood or its components. They include anemia, leukemia, hemophilia, and sickle-cell disease.\n",
      "\n",
      "924 Viruses cause many human diseases. In addition to the diseases mentioned above, viruses cause rabies, measles, diarrheal diseases, hepatitis, polio, and cold sores (see Figure below ). Viral diseases range from mild to fatal. One way viruses cause disease is by causing host cells to burst open and die. Viruses may also cause disease without killing host cells. They may cause illness by disrupting homeostasis in host cells.\n",
      "\n",
      "688 Diseases of the cardiovascular system are common and may be life threatening. Examples include atherosclerosis and coronary heart disease. A healthy lifestyle can reduce the risk of such diseases developing. This includes avoiding smoking, getting regular physical activity, and maintaining a healthy percent of body fat.\n",
      "\n",
      "38 Vascular disorders involve problems with blood flow. For example, a stroke occurs when a blood clot blocks blood flow to part of the brain. Brain cells die quickly if their oxygen supply is cut off. This may cause paralysis and loss of other normal functions, depending on the part of the brain that is damaged.\n",
      "\n",
      "523 Red blood cells carry oxygen, white blood cells defend the body, and platelets help blood clot.\n",
      "\n"
     ]
    }
   ],
   "source": [
    "query_vector = embeddings[1, :]\n",
    "distances, indices = query_db(query_vector, index, k=5)\n",
    "\n",
    "print(f\"Indices of nearest neighbors: {indices}\")\n",
    "print(f\"Distances to nearest neighbors: {distances}\")\n",
    "\n",
    "print(\"\\nIndices' Text\")\n",
    "for idx in indices[0]:\n",
    "    print(idx, support_feat[idx])\n",
    "    print()"
   ]
  },
  {
   "cell_type": "code",
   "execution_count": null,
   "metadata": {},
   "outputs": [],
   "source": []
  },
  {
   "cell_type": "markdown",
   "metadata": {},
   "source": [
    "### 3. RAG Framework Implementation (1.5 hours)\n",
    "\n",
    "- Implement a retrieval mechanism to find relevant documents based on a query\n",
    "- Ensure that the relevant documents are evaluated based on a dynamic threshold like kneedle method, BIC, or elbow method\n",
    "- Develop a simple reranking algorithm to improve the relevance of retrieved documents\n",
    "- Integrate a language model (e.g., Llama 70b using HuggingChat) for generating responses based on retrieved information"
   ]
  },
  {
   "cell_type": "code",
   "execution_count": 18,
   "metadata": {},
   "outputs": [],
   "source": [
    "def construct_rag_prompt(query_text:str, source_text:list):\n",
    "    \"\"\"\n",
    "    \"\"\"\n",
    "    input_text = f\"{query_text}\\n\\nDocuments:\\n\"\n",
    "\n",
    "    for s in source_text:\n",
    "        input_text += f\"{s}\\n\\n\"\n",
    "\n",
    "    input_text = input_text[:-2]\n",
    "\n",
    "    return input_text"
   ]
  },
  {
   "cell_type": "code",
   "execution_count": 19,
   "metadata": {},
   "outputs": [
    {
     "name": "stdout",
     "output_type": "stream",
     "text": [
      "What are bacteria that stain purple are called?\n",
      "(384,)\n",
      "Indices of nearest neighbors: [[135 199 335 630 828]]\n",
      "Distances to nearest neighbors: [[0.68911886 0.48155177 0.46203548 0.428438   0.40912172]]\n",
      "What are bacteria that stain purple are called?\n",
      "\n",
      "Documents:\n",
      "Bacteria that stain red are called gram-negative bacteria. They have a thin cell wall with an outer membrane.\n",
      "\n",
      "Bacteria called cyanobacteria are very important. They are bluish green in color (see Figure below ) because they contain chlorophyll (but not chloroplasts, of course). They make food through photosynthesis and release oxygen into the air. These bacteria were probably responsible for adding oxygen to the air on early Earth. This changed the planet’s atmosphere. It also changed the direction of evolution. Ancient cyanobacteria also may have evolved into the chloroplasts of plant cells.\n",
      "\n",
      "Many prokaryotes have an extra layer, called a capsule, outside the cell wall. The capsule protects the cell from chemicals and drying out. It also allows the cell to stick to surfaces and to other cells. Because of this, many prokaryotes can form biofilms, like the one shown in Figure below . A biofilm is a colony of prokaryotes that is stuck to a surface such as a rock or a host’s tissues. The sticky plaque that collects on your teeth between brushings is a biofilm. It consists of millions of bacteria.\n",
      "\n",
      "Ocean water appears cyan because the microbes in the water preferentially absorb red light. What color does a red lobster appear on the ocean floor? How about a white shirt with blue stripes?.\n",
      "\n",
      "With the naked eye, bacteria just look like a slimy smear on a petri dish. How can we study them in more detail? The invention of the microscope has allowed us to see bacteria, cells, and other things too small to be seen with the naked eye.\n"
     ]
    }
   ],
   "source": [
    "query = \"What are bacteria that stain purple are called?\"\n",
    "# query = \"What element is an essential part of many molecules needed by living organisms?\"\n",
    "# query = \"What phenomenon makes global winds blow northeast to southwest or the reverse in the northern hemisphere and northwest to southeast or the reverse in the southern hemisphere?\"\n",
    "\n",
    "# query = df_filt['question'].sample(1).values[0]\n",
    "print(query)\n",
    "\n",
    "query_embedded = model_embedd.encode(query)\n",
    "print(query_embedded.shape)\n",
    "\n",
    "faiss.normalize_L2(query_embedded.reshape(1, -1))\n",
    "\n",
    "# Perform search to get the top k nearest neighbors\n",
    "k = 5  # Number of nearest neighbors\n",
    "distances, indices = index.search(query_embedded.reshape(1, -1), k) \n",
    "\n",
    "print(f\"Indices of nearest neighbors: {indices}\")\n",
    "print(f\"Distances to nearest neighbors: {distances}\")\n",
    "\n",
    "\n",
    "rag_prompt = construct_rag_prompt(query, support_feat[indices[0]])\n",
    "print(rag_prompt)"
   ]
  },
  {
   "cell_type": "code",
   "execution_count": 20,
   "metadata": {},
   "outputs": [
    {
     "name": "stderr",
     "output_type": "stream",
     "text": [
      "huggingface/tokenizers: The current process just got forked, after parallelism has already been used. Disabling parallelism to avoid deadlocks...\n",
      "To disable this warning, you can either:\n",
      "\t- Avoid using `tokenizers` before the fork if possible\n",
      "\t- Explicitly set the environment variable TOKENIZERS_PARALLELISM=(true | false)\n"
     ]
    },
    {
     "name": "stdout",
     "output_type": "stream",
     "text": [
      "Unfortunately, the documents do not mention bacteria that stain purple. It only discusses bacteria that stain red (gram-negative bacteria) and cyanobacteria, which appear bluish green due to their presence of chlorophyll.\n"
     ]
    }
   ],
   "source": [
    "groq_api = \"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\"\n",
    "\n",
    "client = Groq(api_key=groq_api)\n",
    "\n",
    "completion = client.chat.completions.create(\n",
    "    model=\"llama3-8b-8192\",\n",
    "    messages=[\n",
    "        {\n",
    "            \"role\": \"user\",\n",
    "            \"content\": rag_prompt\n",
    "        }\n",
    "    ],\n",
    "    temperature=1,\n",
    "    max_tokens=1024,\n",
    "    top_p=1,\n",
    "    stream=False,\n",
    "    stop=None,\n",
    ")\n",
    "\n",
    "msg = completion.choices[0].message\n",
    "print(msg.content)"
   ]
  },
  {
   "cell_type": "code",
   "execution_count": null,
   "metadata": {},
   "outputs": [],
   "source": []
  },
  {
   "cell_type": "markdown",
   "metadata": {},
   "source": [
    "### 4. Query Interface (30 minutes)\n",
    "\n",
    "- Create a simple command-line interface for users to input questions\n",
    "- You could also use Gradio or Streamlit\n",
    "- Display the top retrieved documents and the generated answer"
   ]
  },
  {
   "cell_type": "code",
   "execution_count": 21,
   "metadata": {},
   "outputs": [
    {
     "name": "stderr",
     "output_type": "stream",
     "text": [
      "/Users/Mike/Documents/SchoolAI-CodeChallenge/.venv/lib/python3.9/site-packages/transformers/tokenization_utils_base.py:1601: FutureWarning: `clean_up_tokenization_spaces` was not set. It will be set to `True` by default. This behavior will be depracted in transformers v4.45, and will be then set to `False` by default. For more details check this issue: https://github.com/huggingface/transformers/issues/31884\n",
      "  warnings.warn(\n"
     ]
    },
    {
     "name": "stdout",
     "output_type": "stream",
     "text": [
      "Running on local URL:  http://127.0.0.1:7861\n",
      "\n",
      "To create a public link, set `share=True` in `launch()`.\n"
     ]
    },
    {
     "data": {
      "text/html": [
       "<div><iframe src=\"http://127.0.0.1:7861/\" width=\"100%\" height=\"500\" allow=\"autoplay; camera; microphone; clipboard-read; clipboard-write;\" frameborder=\"0\" allowfullscreen></iframe></div>"
      ],
      "text/plain": [
       "<IPython.core.display.HTML object>"
      ]
     },
     "metadata": {},
     "output_type": "display_data"
    },
    {
     "data": {
      "text/plain": []
     },
     "execution_count": 21,
     "metadata": {},
     "output_type": "execute_result"
    }
   ],
   "source": [
    "rag = RAG()\n",
    "rag.create_vector_database(support_feat)\n",
    "def rag_chat(question, history):\n",
    "    return rag.rag_qa(question)\n",
    "\n",
    "\n",
    "gr.ChatInterface(\n",
    "    rag_chat,\n",
    "    chatbot=gr.Chatbot(height=300),\n",
    "    textbox=gr.Textbox(placeholder=\"Ask me a question\", container=False, scale=7),\n",
    "    title=\"RAG Chat\",\n",
    "    retry_btn=None,\n",
    "    undo_btn=\"Delete Previous\",\n",
    "    clear_btn=\"Clear\",\n",
    "    theme=\"base\",\n",
    ").launch()"
   ]
  },
  {
   "cell_type": "code",
   "execution_count": null,
   "metadata": {},
   "outputs": [],
   "source": []
  },
  {
   "cell_type": "code",
   "execution_count": null,
   "metadata": {},
   "outputs": [],
   "source": []
  },
  {
   "cell_type": "code",
   "execution_count": null,
   "metadata": {},
   "outputs": [],
   "source": []
  },
  {
   "cell_type": "code",
   "execution_count": null,
   "metadata": {},
   "outputs": [],
   "source": []
  },
  {
   "cell_type": "code",
   "execution_count": null,
   "metadata": {},
   "outputs": [],
   "source": []
  },
  {
   "cell_type": "markdown",
   "metadata": {},
   "source": [
    "### 5. Evaluation and Documentation (30 minutes)\n",
    "\n",
    "- Implement a basic evaluation metric (e.g., relevance score)\n",
    "- Provide clear documentation on how to run the system and any dependencies"
   ]
  },
  {
   "cell_type": "code",
   "execution_count": null,
   "metadata": {},
   "outputs": [],
   "source": []
  },
  {
   "cell_type": "markdown",
   "metadata": {},
   "source": [
    "## Deliverables\n",
    "\n",
    "1. Python, Rust, or GoLang code implementing the entire pipeline\n",
    "2. Requirements file listing all necessary dependencies\n",
    "3. Brief documentation explaining the approach, challenges faced, and potential improvements"
   ]
  },
  {
   "cell_type": "markdown",
   "metadata": {},
   "source": [
    "## Bonus (if time permits)\n",
    "\n",
    "- Implement a simple caching mechanism to speed up repeated queries\n",
    "- Add a feature to explain the reasoning behind the generated answer"
   ]
  },
  {
   "cell_type": "markdown",
   "metadata": {},
   "source": [
    "## Evaluation Criteria\n",
    "\n",
    "1. Code quality and organization\n",
    "2. Effectiveness of the RAG implementation\n",
    "3. Appropriate use of embedding techniques\n",
    "4. Clarity of documentation\n",
    "5. Overall system performance and response quality"
   ]
  },
  {
   "cell_type": "code",
   "execution_count": null,
   "metadata": {},
   "outputs": [],
   "source": []
  }
 ],
 "metadata": {
  "kernelspec": {
   "display_name": "Python 3 (ipykernel)",
   "language": "python",
   "name": "python3"
  },
  "language_info": {
   "codemirror_mode": {
    "name": "ipython",
    "version": 3
   },
   "file_extension": ".py",
   "mimetype": "text/x-python",
   "name": "python",
   "nbconvert_exporter": "python",
   "pygments_lexer": "ipython3",
   "version": "3.9.6"
  }
 },
 "nbformat": 4,
 "nbformat_minor": 4
}
